{
 "cells": [
  {
   "cell_type": "markdown",
   "id": "84ece7eb",
   "metadata": {},
   "source": [
    "**@author: Daniel Ramirez Guitron**\n",
    "\n",
    "Date: 19/04/2025\n",
    "\n",
    "Linkdin: https://www.linkedin.com/in/danielguitron/\n",
    "\n",
    "Github: https://github.com/dannngu\n",
    "\n",
    "E-mail: contactguitron@gmail.com"
   ]
  },
  {
   "cell_type": "markdown",
   "id": "34d2cf98",
   "metadata": {},
   "source": [
    "# ⚕️ Project: Schizophrenia Detection - Model Exploration\n",
    "---\n",
    "\n",
    "\n",
    "### Problem\n",
    "\n",
    "The idea is to **train and validate a Random Forest classifier** that allows determining whether or not a person may have schizophrenia based on multiple psychosocial variables.\n",
    "\n",
    "\n",
    "### Dataset\n",
    "The dataset **schizophrenia.csv** contains a total of **5,610** records.\n",
    "\n",
    "For each record (or person) we have the following information:\n",
    "\n",
    "- `age`: the person's age\n",
    "- `gender`: female (0) or male (1)\n",
    "- `education`: primary (0), secondary (1), middle or high school (2), university (3), postgraduate (4)\n",
    "- `marital_status`: single (0), married (1), divorced (2), widowed (3)\n",
    "- `occupation`: unemployed (0), employed (1), retired (2), student (3)\n",
    "- `ing_level`: low income (0), middle income (1), high income (2)\n",
    "- `housing`: rural area (0), urban area (1)\n",
    "- `family_history`: no relatives with schizophrenia (0), has had relatives with schizophrenia (1)\n",
    "- `substance_use`: does not use tobacco, alcohol, or other substances (0), does use (1)\n",
    "- `suicide_attempt`: no (0), yes (1)\n",
    "- `social_environment_risk`: low (0), medium (1), high (2)\n",
    "- `stress_factors`: low (0), medium (1), high (2)\n",
    "- `medication_adherence`: low (0), moderate (1), good (2)\n",
    "\n",
    "🎯 **Target Variable**\n",
    "- `diagnosis`: does not have schizophrenia (0), has schizophrenia (1)\n",
    "\n",
    "\n",
    "### Purpose phase\n",
    "Explore and search for the best model to predict if a user have schizophrenia {0:no, 1:yes}\n"
   ]
  },
  {
   "cell_type": "code",
   "execution_count": 98,
   "id": "d15affc0",
   "metadata": {},
   "outputs": [],
   "source": [
    "import pandas as pd\n",
    "import matplotlib.pyplot as plt\n",
    "import seaborn  as sns"
   ]
  },
  {
   "cell_type": "code",
   "execution_count": 99,
   "id": "98199e2d",
   "metadata": {},
   "outputs": [],
   "source": [
    "df_interim = pd.read_csv('../data/raw/schizophrenia.csv')"
   ]
  },
  {
   "cell_type": "markdown",
   "id": "69fcf550",
   "metadata": {},
   "source": [
    "## **Train/test split**\n",
    "---"
   ]
  },
  {
   "cell_type": "markdown",
   "id": "89d8aec1",
   "metadata": {},
   "source": [
    "To train the model we are going yo split the dataset using `train_test_split` from **Scikit-learn**. train(90%) and test(10%) out of bag. "
   ]
  },
  {
   "cell_type": "code",
   "execution_count": 100,
   "id": "f981cfee",
   "metadata": {},
   "outputs": [
    {
     "name": "stdout",
     "output_type": "stream",
     "text": [
      "[+] Train dataset: ((5049, 13), (5049,))\n",
      "[+] Test dataset: ((561, 13), (561,))\n"
     ]
    }
   ],
   "source": [
    "# Creation of the dataset train and test\n",
    "from sklearn.model_selection import train_test_split\n",
    "\n",
    "# X: input, Y: output to predict\n",
    "X = df_interim.iloc[:, :-1] # Select all the varibales except the last one ('diagnosis')\n",
    "Y = df_interim.iloc[:, -1] # Select only the las varible ('diagnosis')\n",
    "\n",
    "\n",
    "# Split\n",
    "X_train, X_test, y_train, y_test = train_test_split(X, Y, test_size=0.1, random_state=1234)\n",
    "\n",
    "# Print the result sizes\n",
    "print(f'[+] Train dataset: {X_train.shape, y_train.shape}')\n",
    "print(f'[+] Test dataset: {X_test.shape, y_test.shape}')"
   ]
  },
  {
   "cell_type": "markdown",
   "id": "b41a1bb6",
   "metadata": {},
   "source": [
    "## **Train the RandomForestClassifier**\n",
    "---"
   ]
  },
  {
   "cell_type": "markdown",
   "id": "bc9314c8",
   "metadata": {},
   "source": [
    "Now it is time to select and create the models, in this case since the problem is logistic. a great model is **RandomForestClassifier** which also beacause the dataset is perfect we will not need to scale or encode the different varibles.\n",
    "1. Create an intance of the model\n",
    "2. Train the model using `fit()` and the train dataset"
   ]
  },
  {
   "cell_type": "code",
   "execution_count": 101,
   "id": "86a01c85",
   "metadata": {},
   "outputs": [
    {
     "data": {
      "text/html": [
       "<style>#sk-container-id-6 {\n",
       "  /* Definition of color scheme common for light and dark mode */\n",
       "  --sklearn-color-text: #000;\n",
       "  --sklearn-color-text-muted: #666;\n",
       "  --sklearn-color-line: gray;\n",
       "  /* Definition of color scheme for unfitted estimators */\n",
       "  --sklearn-color-unfitted-level-0: #fff5e6;\n",
       "  --sklearn-color-unfitted-level-1: #f6e4d2;\n",
       "  --sklearn-color-unfitted-level-2: #ffe0b3;\n",
       "  --sklearn-color-unfitted-level-3: chocolate;\n",
       "  /* Definition of color scheme for fitted estimators */\n",
       "  --sklearn-color-fitted-level-0: #f0f8ff;\n",
       "  --sklearn-color-fitted-level-1: #d4ebff;\n",
       "  --sklearn-color-fitted-level-2: #b3dbfd;\n",
       "  --sklearn-color-fitted-level-3: cornflowerblue;\n",
       "\n",
       "  /* Specific color for light theme */\n",
       "  --sklearn-color-text-on-default-background: var(--sg-text-color, var(--theme-code-foreground, var(--jp-content-font-color1, black)));\n",
       "  --sklearn-color-background: var(--sg-background-color, var(--theme-background, var(--jp-layout-color0, white)));\n",
       "  --sklearn-color-border-box: var(--sg-text-color, var(--theme-code-foreground, var(--jp-content-font-color1, black)));\n",
       "  --sklearn-color-icon: #696969;\n",
       "\n",
       "  @media (prefers-color-scheme: dark) {\n",
       "    /* Redefinition of color scheme for dark theme */\n",
       "    --sklearn-color-text-on-default-background: var(--sg-text-color, var(--theme-code-foreground, var(--jp-content-font-color1, white)));\n",
       "    --sklearn-color-background: var(--sg-background-color, var(--theme-background, var(--jp-layout-color0, #111)));\n",
       "    --sklearn-color-border-box: var(--sg-text-color, var(--theme-code-foreground, var(--jp-content-font-color1, white)));\n",
       "    --sklearn-color-icon: #878787;\n",
       "  }\n",
       "}\n",
       "\n",
       "#sk-container-id-6 {\n",
       "  color: var(--sklearn-color-text);\n",
       "}\n",
       "\n",
       "#sk-container-id-6 pre {\n",
       "  padding: 0;\n",
       "}\n",
       "\n",
       "#sk-container-id-6 input.sk-hidden--visually {\n",
       "  border: 0;\n",
       "  clip: rect(1px 1px 1px 1px);\n",
       "  clip: rect(1px, 1px, 1px, 1px);\n",
       "  height: 1px;\n",
       "  margin: -1px;\n",
       "  overflow: hidden;\n",
       "  padding: 0;\n",
       "  position: absolute;\n",
       "  width: 1px;\n",
       "}\n",
       "\n",
       "#sk-container-id-6 div.sk-dashed-wrapped {\n",
       "  border: 1px dashed var(--sklearn-color-line);\n",
       "  margin: 0 0.4em 0.5em 0.4em;\n",
       "  box-sizing: border-box;\n",
       "  padding-bottom: 0.4em;\n",
       "  background-color: var(--sklearn-color-background);\n",
       "}\n",
       "\n",
       "#sk-container-id-6 div.sk-container {\n",
       "  /* jupyter's `normalize.less` sets `[hidden] { display: none; }`\n",
       "     but bootstrap.min.css set `[hidden] { display: none !important; }`\n",
       "     so we also need the `!important` here to be able to override the\n",
       "     default hidden behavior on the sphinx rendered scikit-learn.org.\n",
       "     See: https://github.com/scikit-learn/scikit-learn/issues/21755 */\n",
       "  display: inline-block !important;\n",
       "  position: relative;\n",
       "}\n",
       "\n",
       "#sk-container-id-6 div.sk-text-repr-fallback {\n",
       "  display: none;\n",
       "}\n",
       "\n",
       "div.sk-parallel-item,\n",
       "div.sk-serial,\n",
       "div.sk-item {\n",
       "  /* draw centered vertical line to link estimators */\n",
       "  background-image: linear-gradient(var(--sklearn-color-text-on-default-background), var(--sklearn-color-text-on-default-background));\n",
       "  background-size: 2px 100%;\n",
       "  background-repeat: no-repeat;\n",
       "  background-position: center center;\n",
       "}\n",
       "\n",
       "/* Parallel-specific style estimator block */\n",
       "\n",
       "#sk-container-id-6 div.sk-parallel-item::after {\n",
       "  content: \"\";\n",
       "  width: 100%;\n",
       "  border-bottom: 2px solid var(--sklearn-color-text-on-default-background);\n",
       "  flex-grow: 1;\n",
       "}\n",
       "\n",
       "#sk-container-id-6 div.sk-parallel {\n",
       "  display: flex;\n",
       "  align-items: stretch;\n",
       "  justify-content: center;\n",
       "  background-color: var(--sklearn-color-background);\n",
       "  position: relative;\n",
       "}\n",
       "\n",
       "#sk-container-id-6 div.sk-parallel-item {\n",
       "  display: flex;\n",
       "  flex-direction: column;\n",
       "}\n",
       "\n",
       "#sk-container-id-6 div.sk-parallel-item:first-child::after {\n",
       "  align-self: flex-end;\n",
       "  width: 50%;\n",
       "}\n",
       "\n",
       "#sk-container-id-6 div.sk-parallel-item:last-child::after {\n",
       "  align-self: flex-start;\n",
       "  width: 50%;\n",
       "}\n",
       "\n",
       "#sk-container-id-6 div.sk-parallel-item:only-child::after {\n",
       "  width: 0;\n",
       "}\n",
       "\n",
       "/* Serial-specific style estimator block */\n",
       "\n",
       "#sk-container-id-6 div.sk-serial {\n",
       "  display: flex;\n",
       "  flex-direction: column;\n",
       "  align-items: center;\n",
       "  background-color: var(--sklearn-color-background);\n",
       "  padding-right: 1em;\n",
       "  padding-left: 1em;\n",
       "}\n",
       "\n",
       "\n",
       "/* Toggleable style: style used for estimator/Pipeline/ColumnTransformer box that is\n",
       "clickable and can be expanded/collapsed.\n",
       "- Pipeline and ColumnTransformer use this feature and define the default style\n",
       "- Estimators will overwrite some part of the style using the `sk-estimator` class\n",
       "*/\n",
       "\n",
       "/* Pipeline and ColumnTransformer style (default) */\n",
       "\n",
       "#sk-container-id-6 div.sk-toggleable {\n",
       "  /* Default theme specific background. It is overwritten whether we have a\n",
       "  specific estimator or a Pipeline/ColumnTransformer */\n",
       "  background-color: var(--sklearn-color-background);\n",
       "}\n",
       "\n",
       "/* Toggleable label */\n",
       "#sk-container-id-6 label.sk-toggleable__label {\n",
       "  cursor: pointer;\n",
       "  display: flex;\n",
       "  width: 100%;\n",
       "  margin-bottom: 0;\n",
       "  padding: 0.5em;\n",
       "  box-sizing: border-box;\n",
       "  text-align: center;\n",
       "  align-items: start;\n",
       "  justify-content: space-between;\n",
       "  gap: 0.5em;\n",
       "}\n",
       "\n",
       "#sk-container-id-6 label.sk-toggleable__label .caption {\n",
       "  font-size: 0.6rem;\n",
       "  font-weight: lighter;\n",
       "  color: var(--sklearn-color-text-muted);\n",
       "}\n",
       "\n",
       "#sk-container-id-6 label.sk-toggleable__label-arrow:before {\n",
       "  /* Arrow on the left of the label */\n",
       "  content: \"▸\";\n",
       "  float: left;\n",
       "  margin-right: 0.25em;\n",
       "  color: var(--sklearn-color-icon);\n",
       "}\n",
       "\n",
       "#sk-container-id-6 label.sk-toggleable__label-arrow:hover:before {\n",
       "  color: var(--sklearn-color-text);\n",
       "}\n",
       "\n",
       "/* Toggleable content - dropdown */\n",
       "\n",
       "#sk-container-id-6 div.sk-toggleable__content {\n",
       "  max-height: 0;\n",
       "  max-width: 0;\n",
       "  overflow: hidden;\n",
       "  text-align: left;\n",
       "  /* unfitted */\n",
       "  background-color: var(--sklearn-color-unfitted-level-0);\n",
       "}\n",
       "\n",
       "#sk-container-id-6 div.sk-toggleable__content.fitted {\n",
       "  /* fitted */\n",
       "  background-color: var(--sklearn-color-fitted-level-0);\n",
       "}\n",
       "\n",
       "#sk-container-id-6 div.sk-toggleable__content pre {\n",
       "  margin: 0.2em;\n",
       "  border-radius: 0.25em;\n",
       "  color: var(--sklearn-color-text);\n",
       "  /* unfitted */\n",
       "  background-color: var(--sklearn-color-unfitted-level-0);\n",
       "}\n",
       "\n",
       "#sk-container-id-6 div.sk-toggleable__content.fitted pre {\n",
       "  /* unfitted */\n",
       "  background-color: var(--sklearn-color-fitted-level-0);\n",
       "}\n",
       "\n",
       "#sk-container-id-6 input.sk-toggleable__control:checked~div.sk-toggleable__content {\n",
       "  /* Expand drop-down */\n",
       "  max-height: 200px;\n",
       "  max-width: 100%;\n",
       "  overflow: auto;\n",
       "}\n",
       "\n",
       "#sk-container-id-6 input.sk-toggleable__control:checked~label.sk-toggleable__label-arrow:before {\n",
       "  content: \"▾\";\n",
       "}\n",
       "\n",
       "/* Pipeline/ColumnTransformer-specific style */\n",
       "\n",
       "#sk-container-id-6 div.sk-label input.sk-toggleable__control:checked~label.sk-toggleable__label {\n",
       "  color: var(--sklearn-color-text);\n",
       "  background-color: var(--sklearn-color-unfitted-level-2);\n",
       "}\n",
       "\n",
       "#sk-container-id-6 div.sk-label.fitted input.sk-toggleable__control:checked~label.sk-toggleable__label {\n",
       "  background-color: var(--sklearn-color-fitted-level-2);\n",
       "}\n",
       "\n",
       "/* Estimator-specific style */\n",
       "\n",
       "/* Colorize estimator box */\n",
       "#sk-container-id-6 div.sk-estimator input.sk-toggleable__control:checked~label.sk-toggleable__label {\n",
       "  /* unfitted */\n",
       "  background-color: var(--sklearn-color-unfitted-level-2);\n",
       "}\n",
       "\n",
       "#sk-container-id-6 div.sk-estimator.fitted input.sk-toggleable__control:checked~label.sk-toggleable__label {\n",
       "  /* fitted */\n",
       "  background-color: var(--sklearn-color-fitted-level-2);\n",
       "}\n",
       "\n",
       "#sk-container-id-6 div.sk-label label.sk-toggleable__label,\n",
       "#sk-container-id-6 div.sk-label label {\n",
       "  /* The background is the default theme color */\n",
       "  color: var(--sklearn-color-text-on-default-background);\n",
       "}\n",
       "\n",
       "/* On hover, darken the color of the background */\n",
       "#sk-container-id-6 div.sk-label:hover label.sk-toggleable__label {\n",
       "  color: var(--sklearn-color-text);\n",
       "  background-color: var(--sklearn-color-unfitted-level-2);\n",
       "}\n",
       "\n",
       "/* Label box, darken color on hover, fitted */\n",
       "#sk-container-id-6 div.sk-label.fitted:hover label.sk-toggleable__label.fitted {\n",
       "  color: var(--sklearn-color-text);\n",
       "  background-color: var(--sklearn-color-fitted-level-2);\n",
       "}\n",
       "\n",
       "/* Estimator label */\n",
       "\n",
       "#sk-container-id-6 div.sk-label label {\n",
       "  font-family: monospace;\n",
       "  font-weight: bold;\n",
       "  display: inline-block;\n",
       "  line-height: 1.2em;\n",
       "}\n",
       "\n",
       "#sk-container-id-6 div.sk-label-container {\n",
       "  text-align: center;\n",
       "}\n",
       "\n",
       "/* Estimator-specific */\n",
       "#sk-container-id-6 div.sk-estimator {\n",
       "  font-family: monospace;\n",
       "  border: 1px dotted var(--sklearn-color-border-box);\n",
       "  border-radius: 0.25em;\n",
       "  box-sizing: border-box;\n",
       "  margin-bottom: 0.5em;\n",
       "  /* unfitted */\n",
       "  background-color: var(--sklearn-color-unfitted-level-0);\n",
       "}\n",
       "\n",
       "#sk-container-id-6 div.sk-estimator.fitted {\n",
       "  /* fitted */\n",
       "  background-color: var(--sklearn-color-fitted-level-0);\n",
       "}\n",
       "\n",
       "/* on hover */\n",
       "#sk-container-id-6 div.sk-estimator:hover {\n",
       "  /* unfitted */\n",
       "  background-color: var(--sklearn-color-unfitted-level-2);\n",
       "}\n",
       "\n",
       "#sk-container-id-6 div.sk-estimator.fitted:hover {\n",
       "  /* fitted */\n",
       "  background-color: var(--sklearn-color-fitted-level-2);\n",
       "}\n",
       "\n",
       "/* Specification for estimator info (e.g. \"i\" and \"?\") */\n",
       "\n",
       "/* Common style for \"i\" and \"?\" */\n",
       "\n",
       ".sk-estimator-doc-link,\n",
       "a:link.sk-estimator-doc-link,\n",
       "a:visited.sk-estimator-doc-link {\n",
       "  float: right;\n",
       "  font-size: smaller;\n",
       "  line-height: 1em;\n",
       "  font-family: monospace;\n",
       "  background-color: var(--sklearn-color-background);\n",
       "  border-radius: 1em;\n",
       "  height: 1em;\n",
       "  width: 1em;\n",
       "  text-decoration: none !important;\n",
       "  margin-left: 0.5em;\n",
       "  text-align: center;\n",
       "  /* unfitted */\n",
       "  border: var(--sklearn-color-unfitted-level-1) 1pt solid;\n",
       "  color: var(--sklearn-color-unfitted-level-1);\n",
       "}\n",
       "\n",
       ".sk-estimator-doc-link.fitted,\n",
       "a:link.sk-estimator-doc-link.fitted,\n",
       "a:visited.sk-estimator-doc-link.fitted {\n",
       "  /* fitted */\n",
       "  border: var(--sklearn-color-fitted-level-1) 1pt solid;\n",
       "  color: var(--sklearn-color-fitted-level-1);\n",
       "}\n",
       "\n",
       "/* On hover */\n",
       "div.sk-estimator:hover .sk-estimator-doc-link:hover,\n",
       ".sk-estimator-doc-link:hover,\n",
       "div.sk-label-container:hover .sk-estimator-doc-link:hover,\n",
       ".sk-estimator-doc-link:hover {\n",
       "  /* unfitted */\n",
       "  background-color: var(--sklearn-color-unfitted-level-3);\n",
       "  color: var(--sklearn-color-background);\n",
       "  text-decoration: none;\n",
       "}\n",
       "\n",
       "div.sk-estimator.fitted:hover .sk-estimator-doc-link.fitted:hover,\n",
       ".sk-estimator-doc-link.fitted:hover,\n",
       "div.sk-label-container:hover .sk-estimator-doc-link.fitted:hover,\n",
       ".sk-estimator-doc-link.fitted:hover {\n",
       "  /* fitted */\n",
       "  background-color: var(--sklearn-color-fitted-level-3);\n",
       "  color: var(--sklearn-color-background);\n",
       "  text-decoration: none;\n",
       "}\n",
       "\n",
       "/* Span, style for the box shown on hovering the info icon */\n",
       ".sk-estimator-doc-link span {\n",
       "  display: none;\n",
       "  z-index: 9999;\n",
       "  position: relative;\n",
       "  font-weight: normal;\n",
       "  right: .2ex;\n",
       "  padding: .5ex;\n",
       "  margin: .5ex;\n",
       "  width: min-content;\n",
       "  min-width: 20ex;\n",
       "  max-width: 50ex;\n",
       "  color: var(--sklearn-color-text);\n",
       "  box-shadow: 2pt 2pt 4pt #999;\n",
       "  /* unfitted */\n",
       "  background: var(--sklearn-color-unfitted-level-0);\n",
       "  border: .5pt solid var(--sklearn-color-unfitted-level-3);\n",
       "}\n",
       "\n",
       ".sk-estimator-doc-link.fitted span {\n",
       "  /* fitted */\n",
       "  background: var(--sklearn-color-fitted-level-0);\n",
       "  border: var(--sklearn-color-fitted-level-3);\n",
       "}\n",
       "\n",
       ".sk-estimator-doc-link:hover span {\n",
       "  display: block;\n",
       "}\n",
       "\n",
       "/* \"?\"-specific style due to the `<a>` HTML tag */\n",
       "\n",
       "#sk-container-id-6 a.estimator_doc_link {\n",
       "  float: right;\n",
       "  font-size: 1rem;\n",
       "  line-height: 1em;\n",
       "  font-family: monospace;\n",
       "  background-color: var(--sklearn-color-background);\n",
       "  border-radius: 1rem;\n",
       "  height: 1rem;\n",
       "  width: 1rem;\n",
       "  text-decoration: none;\n",
       "  /* unfitted */\n",
       "  color: var(--sklearn-color-unfitted-level-1);\n",
       "  border: var(--sklearn-color-unfitted-level-1) 1pt solid;\n",
       "}\n",
       "\n",
       "#sk-container-id-6 a.estimator_doc_link.fitted {\n",
       "  /* fitted */\n",
       "  border: var(--sklearn-color-fitted-level-1) 1pt solid;\n",
       "  color: var(--sklearn-color-fitted-level-1);\n",
       "}\n",
       "\n",
       "/* On hover */\n",
       "#sk-container-id-6 a.estimator_doc_link:hover {\n",
       "  /* unfitted */\n",
       "  background-color: var(--sklearn-color-unfitted-level-3);\n",
       "  color: var(--sklearn-color-background);\n",
       "  text-decoration: none;\n",
       "}\n",
       "\n",
       "#sk-container-id-6 a.estimator_doc_link.fitted:hover {\n",
       "  /* fitted */\n",
       "  background-color: var(--sklearn-color-fitted-level-3);\n",
       "}\n",
       "</style><div id=\"sk-container-id-6\" class=\"sk-top-container\"><div class=\"sk-text-repr-fallback\"><pre>RandomForestClassifier(oob_score=True, random_state=1234)</pre><b>In a Jupyter environment, please rerun this cell to show the HTML representation or trust the notebook. <br />On GitHub, the HTML representation is unable to render, please try loading this page with nbviewer.org.</b></div><div class=\"sk-container\" hidden><div class=\"sk-item\"><div class=\"sk-estimator fitted sk-toggleable\"><input class=\"sk-toggleable__control sk-hidden--visually\" id=\"sk-estimator-id-6\" type=\"checkbox\" checked><label for=\"sk-estimator-id-6\" class=\"sk-toggleable__label fitted sk-toggleable__label-arrow\"><div><div>RandomForestClassifier</div></div><div><a class=\"sk-estimator-doc-link fitted\" rel=\"noreferrer\" target=\"_blank\" href=\"https://scikit-learn.org/1.6/modules/generated/sklearn.ensemble.RandomForestClassifier.html\">?<span>Documentation for RandomForestClassifier</span></a><span class=\"sk-estimator-doc-link fitted\">i<span>Fitted</span></span></div></label><div class=\"sk-toggleable__content fitted\"><pre>RandomForestClassifier(oob_score=True, random_state=1234)</pre></div> </div></div></div></div>"
      ],
      "text/plain": [
       "RandomForestClassifier(oob_score=True, random_state=1234)"
      ]
     },
     "execution_count": 101,
     "metadata": {},
     "output_type": "execute_result"
    }
   ],
   "source": [
    "from sklearn.ensemble import RandomForestClassifier\n",
    "\n",
    "rf_model = RandomForestClassifier(\n",
    "    random_state=1234, \n",
    "    oob_score=True\n",
    ")\n",
    "\n",
    "rf_model.fit(X_train, y_train)"
   ]
  },
  {
   "cell_type": "markdown",
   "id": "37bd2312",
   "metadata": {},
   "source": [
    "> [!Note] The key of the above sterp is using `oob_score=True` that allow us to get the score of the samples **out-of-bag** to validate the performance of the model. as a type of validation dataset."
   ]
  },
  {
   "cell_type": "markdown",
   "id": "d6d035be",
   "metadata": {},
   "source": [
    "By default, because it is a classifier problem the score is **accuracy**:"
   ]
  },
  {
   "cell_type": "code",
   "execution_count": 102,
   "id": "4d2115c0",
   "metadata": {},
   "outputs": [
    {
     "data": {
      "text/plain": [
       "0.7767874826698357"
      ]
     },
     "execution_count": 102,
     "metadata": {},
     "output_type": "execute_result"
    }
   ],
   "source": [
    "# Socre of validation (samples out-of_bag)\n",
    "rf_model.oob_score_"
   ]
  },
  {
   "cell_type": "markdown",
   "id": "300cb657",
   "metadata": {},
   "source": [
    "**Observations**\n",
    "- Baseline model: The model have an **accuracy** 77.67% of the validation dataset."
   ]
  },
  {
   "cell_type": "markdown",
   "id": "936e4b0a",
   "metadata": {},
   "source": [
    "Let's see the number of trees that compose it, selected by **Scikit-learn** `estimators_`."
   ]
  },
  {
   "cell_type": "code",
   "execution_count": 103,
   "id": "f7379bf1",
   "metadata": {},
   "outputs": [
    {
     "data": {
      "text/plain": [
       "100"
      ]
     },
     "execution_count": 103,
     "metadata": {},
     "output_type": "execute_result"
    }
   ],
   "source": [
    "len(rf_model.estimators_)"
   ]
  },
  {
   "cell_type": "markdown",
   "id": "4c86570d",
   "metadata": {},
   "source": [
    "Let's see the number of trees that make it up `estimators_[n].get_n_leaves()`."
   ]
  },
  {
   "cell_type": "code",
   "execution_count": 104,
   "id": "f76defbe",
   "metadata": {},
   "outputs": [
    {
     "data": {
      "text/plain": [
       "np.int64(1298)"
      ]
     },
     "execution_count": 104,
     "metadata": {},
     "output_type": "execute_result"
    }
   ],
   "source": [
    "# In this case we are looking the number of the tree [number]\n",
    "rf_model.estimators_[50].get_n_leaves()"
   ]
  },
  {
   "cell_type": "markdown",
   "id": "3cfd6baf",
   "metadata": {},
   "source": [
    "The `oob_descion_function` attribute contains a function that allows us to determine the probability of classifying an **oob** data item into one category or another. (0, 1) in this case.\n",
    "\n",
    "This matrix has the same number of rows as the training dataset, while the number of columns is the number of categories."
   ]
  },
  {
   "cell_type": "code",
   "execution_count": 105,
   "id": "b6877e93",
   "metadata": {},
   "outputs": [
    {
     "data": {
      "text/plain": [
       "(5049, 2)"
      ]
     },
     "execution_count": 105,
     "metadata": {},
     "output_type": "execute_result"
    }
   ],
   "source": [
    "rf_model.oob_decision_function_.shape"
   ]
  },
  {
   "cell_type": "markdown",
   "id": "9990fc4b",
   "metadata": {},
   "source": [
    "> [!Note] We have **5049** data, and only 2 outputs. { 0 and 1} to know if you have schizophrenia"
   ]
  },
  {
   "cell_type": "markdown",
   "id": "10aa1121",
   "metadata": {},
   "source": [
    "Let's look at the matrix in detail, where the largest value is the one that will have the greatest weight and how it will be classified in one or the other."
   ]
  },
  {
   "cell_type": "code",
   "execution_count": 106,
   "id": "ca16f5cd",
   "metadata": {},
   "outputs": [
    {
     "data": {
      "text/plain": [
       "array([[0.03448276, 0.96551724],\n",
       "       [0.5       , 0.5       ],\n",
       "       [0.71875   , 0.28125   ],\n",
       "       ...,\n",
       "       [0.12195122, 0.87804878],\n",
       "       [0.44444444, 0.55555556],\n",
       "       [0.21212121, 0.78787879]], shape=(5049, 2))"
      ]
     },
     "execution_count": 106,
     "metadata": {},
     "output_type": "execute_result"
    }
   ],
   "source": [
    "rf_model.oob_decision_function_"
   ]
  },
  {
   "cell_type": "markdown",
   "id": "3b2b741f",
   "metadata": {},
   "source": [
    "We have previously seen that the default performance (**oob_score**) is **accuracy**.\n",
    "\n",
    "In this case, since it is of a **medical** nature, the most important metrics are usually **precision** and **recall**, and the **oob_descion_fucntion** matrix can be used to calculate other metrics.\n",
    "\n",
    "In this case:\n",
    "- **Precision**: Determine the total number of people classified as schizophrenic, what percentage actually has schizophrenia.\n",
    "- **Recall**: Determines the total number of people who **really** have schizophrenia, which percentage was correctly detected by the model.\n",
    "- **F1_score**: It is the **harmonic** mean between **precision** and **recall**.\n",
    "\n",
    "Let's calculate these three metrics with the help of **Scikit-Learn**"
   ]
  },
  {
   "cell_type": "code",
   "execution_count": 107,
   "id": "7937ee6e",
   "metadata": {},
   "outputs": [
    {
     "name": "stdout",
     "output_type": "stream",
     "text": [
      "Precision: 0.799\n",
      "Recall: 0.758\n",
      "F1_score: 0.778\n"
     ]
    }
   ],
   "source": [
    "# Calculate precision and recall from oob_decison_function_\n",
    "from sklearn.metrics import precision_score, recall_score, f1_score\n",
    "import numpy as np\n",
    "\n",
    "# oob probabilities\n",
    "oob_probs = rf_model.oob_decision_function_\n",
    "\n",
    "# Convert prpabilities into the categories predicted\n",
    "oob_preds = np.argmax(oob_probs, axis=1) # Select the highest probability\n",
    "\n",
    "# Calculate precision, recall and f1_score\n",
    "precision = precision_score(y_train, oob_preds)\n",
    "recall = recall_score(y_train, oob_preds)\n",
    "f1 = f1_score(y_train, oob_preds)\n",
    "\n",
    "print(f'Precision: {precision:.3f}')\n",
    "print(f'Recall: {recall:.3f}')\n",
    "print(f'F1_score: {f1:.3f}')"
   ]
  },
  {
   "cell_type": "code",
   "execution_count": 108,
   "id": "1771040d",
   "metadata": {},
   "outputs": [
    {
     "data": {
      "image/png": "[encoded data removed]",
      "text/plain": [
       "<Figure size 800x500 with 1 Axes>"
      ]
     },
     "metadata": {},
     "output_type": "display_data"
    }
   ],
   "source": [
    "# Create a list with the names of the metrics and their values\n",
    "metrics = ['Precisión', 'Recall', 'F1-Score']\n",
    "values = [precision, recall, f1]\n",
    "\n",
    "# Configure the bar chart\n",
    "plt.figure(figsize=(8, 5))\n",
    "bars = plt.bar(metrics, values, color=['#4CAF50', '#2196F3', '#FF9800'])\n",
    "\n",
    "# Customize the chart\n",
    "plt.title('Métricas de Rendimiento (OOB)', fontsize=14)\n",
    "plt.ylim(0, 1)  # Y-axis limit between 0 and 1\n",
    "plt.ylabel('Valor', fontsize=12)\n",
    "\n",
    "# Add the numeric values ​​above the bars\n",
    "for bar in bars:\n",
    "    height = bar.get_height()\n",
    "    plt.text(bar.get_x() + bar.get_width() / 2, height,\n",
    "             f'{height:.3f}', ha='center', va='bottom')\n",
    "\n",
    "plt.show()\n"
   ]
  },
  {
   "cell_type": "markdown",
   "id": "fe674408",
   "metadata": {},
   "source": [
    "**Observations**\n",
    "- **Precision**: Around **80%**. This indicates that when the model predicts the category schizophrenia (1), it will be correct **80%** of the time. **20%** of the time, they will be false positives (non-schizophrenic patients as schizophrenic patients).\n",
    "- **Recall**: Around **75%**. This indicates that, of the total number of patients with schizophrenia, the model correctly detects **75%**. In **35%** of cases, it fails to detect them."
   ]
  },
  {
   "cell_type": "markdown",
   "id": "d871c944",
   "metadata": {},
   "source": [
    "## **Effect of hyper-parameters performance in RandomForestClassfier**\n",
    "---\n"
   ]
  },
  {
   "cell_type": "markdown",
   "id": "af5a27f8",
   "metadata": {},
   "source": [
    "There are several hyper-parameters we can use to tweak performance."
   ]
  },
  {
   "cell_type": "code",
   "execution_count": 109,
   "id": "a1af6328",
   "metadata": {},
   "outputs": [
    {
     "name": "stdout",
     "output_type": "stream",
     "text": [
      "{'bootstrap': True, 'ccp_alpha': 0.0, 'class_weight': None, 'criterion': 'gini', 'max_depth': None, 'max_features': 'sqrt', 'max_leaf_nodes': None, 'max_samples': None, 'min_impurity_decrease': 0.0, 'min_samples_leaf': 1, 'min_samples_split': 2, 'min_weight_fraction_leaf': 0.0, 'monotonic_cst': None, 'n_estimators': 100, 'n_jobs': None, 'oob_score': True, 'random_state': 1234, 'verbose': 0, 'warm_start': False}\n"
     ]
    }
   ],
   "source": [
    "print(rf_model.get_params())"
   ]
  },
  {
   "cell_type": "markdown",
   "id": "20f05cda",
   "metadata": {},
   "source": [
    "The hyper-parameters that typically have the greatest impact are:\n",
    "- `n_estimators`: Number of trees in the forest.\n",
    "- `max_depth`: Maximum depth for each tree in the forest.\n",
    "- `max_features`: Maximum number of features to randomly select for each tree in the forest."
   ]
  },
  {
   "cell_type": "markdown",
   "id": "9c1df9d4",
   "metadata": {},
   "source": [
    "Let's look at the impact of each of these hyperparameters on the performance of the forest model.\n",
    "- We set different values ​​for each hyperparameter.\n",
    "- For each value, we'll input the forest and calculate its performance (f1_score).\n",
    "- Finally, we'll plot f1_score against each hyperparameter value."
   ]
  },
  {
   "cell_type": "markdown",
   "id": "b6117b7b",
   "metadata": {},
   "source": [
    "Let's start with the `n_estimatnatos`"
   ]
  },
  {
   "cell_type": "code",
   "execution_count": 110,
   "id": "95ca61af",
   "metadata": {},
   "outputs": [
    {
     "name": "stderr",
     "output_type": "stream",
     "text": [
      "/Users/danguitron/Code/workspaces/public-space/projects-pbs/schizophrenia-prediction/venv/lib/python3.13/site-packages/sklearn/ensemble/_forest.py:612: UserWarning: Some inputs do not have OOB scores. This probably means too few trees were used to compute any reliable OOB estimates.\n",
      "  warn(\n"
     ]
    },
    {
     "data": {
      "image/png": "[encoded data removed]",
      "text/plain": [
       "<Figure size 640x480 with 1 Axes>"
      ]
     },
     "metadata": {},
     "output_type": "display_data"
    }
   ],
   "source": [
    "N_ESTIMATORS = np.arange(10, 301, 10)\n",
    "f1_scores = []\n",
    "\n",
    "for n_trees in N_ESTIMATORS:\n",
    "    # print(f'Training with {n_trees} trees...')\n",
    "    forest = RandomForestClassifier(\n",
    "        n_estimators=n_trees,\n",
    "        random_state=1234,\n",
    "        oob_score=True\n",
    "    )\n",
    "    forest.fit(X_train, y_train)\n",
    "    oob_probs = forest.oob_decision_function_\n",
    "    oob_preds = np.argmax(oob_probs, axis=1)\n",
    "    \n",
    "    f1_scores.append(f1_score(y_train, oob_preds))\n",
    "    \n",
    "# Plot f1_scores vs. n_trees\n",
    "plt.plot(N_ESTIMATORS, f1_scores)\n",
    "plt.xlabel('Number of trees')\n",
    "plt.ylabel('f1_score')\n",
    "plt.show();\n",
    "    "
   ]
  },
  {
   "cell_type": "markdown",
   "id": "1a459a72",
   "metadata": {},
   "source": [
    "**Obsservations**\n",
    "- **Performance**: Entre mas aroboles usamos para construir el bosque, mejor desempeño obtendremos. In this case we reach a very good perfomance around **200** to **300** trees. \n",
    "\n",
    "Forest models typically have between 100 and 300 trees."
   ]
  },
  {
   "cell_type": "markdown",
   "id": "d5194071",
   "metadata": {},
   "source": [
    "Now it is time for hyperparameter `max_depth`"
   ]
  },
  {
   "cell_type": "code",
   "execution_count": 111,
   "id": "bf020091",
   "metadata": {},
   "outputs": [
    {
     "data": {
      "text/plain": [
       "Text(0, 0.5, 'f1_score')"
      ]
     },
     "execution_count": 111,
     "metadata": {},
     "output_type": "execute_result"
    },
    {
     "data": {
      "image/png": "[encoded data removed]",
      "text/plain": [
       "<Figure size 640x480 with 1 Axes>"
      ]
     },
     "metadata": {},
     "output_type": "display_data"
    }
   ],
   "source": [
    "MAX_DEPTHS = np.arange(2, 61, 2)\n",
    "f1_scores = []\n",
    "\n",
    "for max_depth in MAX_DEPTHS:\n",
    "    # print(f'Training with {max_depth}...')\n",
    "    forest = RandomForestClassifier(\n",
    "        n_estimators=200,\n",
    "        max_depth=max_depth,\n",
    "        random_state=1234,\n",
    "        oob_score=True\n",
    "    )\n",
    "    forest.fit(X_train, y_train)\n",
    "    oob_probs = forest.oob_decision_function_\n",
    "    oob_preds = np.argmax(oob_probs, axis=1)\n",
    "    \n",
    "    f1_scores.append(f1_score(y_train, oob_preds))\n",
    "    \n",
    "# Plot f1_scores vs. n_trees\n",
    "plt.plot(MAX_DEPTHS, f1_scores)\n",
    "plt.xlabel('Number of trees')\n",
    "plt.ylabel('f1_score')\n",
    "    "
   ]
  },
  {
   "cell_type": "markdown",
   "id": "c3cd4bae",
   "metadata": {},
   "source": [
    "**Observations**\n",
    "\n",
    "The deeper the trees we build, even if they are different, the lower the performance will be.\n",
    "\n",
    "This is because a deeper tree tends to be overfitted and therefore will not perform well on valid data. In the case of a forest, this translates into a forest with **poor** performance for **oob** samples.\n",
    "\n",
    "In this case, we observe that performance does not decline too much, ranging from a\n",
    "- High of almost **80%**\n",
    "- Low of close to **78%**"
   ]
  },
  {
   "cell_type": "markdown",
   "id": "9e62b6b1",
   "metadata": {},
   "source": [
    "For last but not leats, `max_features`\n",
    "\n",
    "In general, a large tree (with a big depth and many leaves) can be prone to **overfitting**. It is generally recommended to reduce the complexity of the tree by adjusting its hyperparameters at the time of its creation.\n",
    "\n"
   ]
  },
  {
   "cell_type": "code",
   "execution_count": 112,
   "id": "a21b48bb",
   "metadata": {},
   "outputs": [
    {
     "data": {
      "text/plain": [
       "Text(0, 0.5, 'f1_score')"
      ]
     },
     "execution_count": 112,
     "metadata": {},
     "output_type": "execute_result"
    },
    {
     "data": {
      "image/png": "[encoded data removed]",
      "text/plain": [
       "<Figure size 640x480 with 1 Axes>"
      ]
     },
     "metadata": {},
     "output_type": "display_data"
    }
   ],
   "source": [
    "MAX_FEATURES = np.arange(1, len(X_train.columns))\n",
    "f1_scores = []\n",
    "\n",
    "for max_features in MAX_FEATURES:\n",
    "    # print(f'Traning with max_features - {max_features}...')\n",
    "    forest = RandomForestClassifier(\n",
    "        n_estimators=200,\n",
    "        max_features=max_features,\n",
    "        random_state=1234,\n",
    "        oob_score=True\n",
    "    )\n",
    "    \n",
    "    forest.fit(X_train, y_train)\n",
    "    oob_probs = forest.oob_decision_function_\n",
    "    oob_preds = np.argmax(oob_probs, axis=1)\n",
    "    \n",
    "    f1_scores.append(f1_score(y_train, oob_preds))\n",
    "    \n",
    "# Plot f1_scores vs. max_features\n",
    "plt.plot(MAX_FEATURES, f1_scores)\n",
    "plt.xlabel('Max number of features')\n",
    "plt.ylabel('f1_score')\n"
   ]
  },
  {
   "cell_type": "markdown",
   "id": "24c7a3c3",
   "metadata": {},
   "source": [
    "**Observations**\n",
    "\n",
    "- With less characteristics(features) selected aleatory to train each tree, the performance will be batter.\n",
    "\n",
    "This beacuse when we train it with **few** features selcted aleatory, each tree will be more diverse and this diversity make the forest to have less **overfitting**(better perfromance)"
   ]
  },
  {
   "cell_type": "markdown",
   "id": "f0cba35e",
   "metadata": {},
   "source": [
    "### **Conslusions**\n",
    "\n",
    "With the above steps we can conclude:\n",
    " - **Best hyperparameters**: The one that impact most in the perfomece is `n_estimartos`, variations betweeen **72%** and **78%** for **f1_Score**.\n",
    " - The effect of hyperparameters `max_depth` and `max_features` is marginal, they only present variations in performance between **77%** and **79%**."
   ]
  },
  {
   "cell_type": "markdown",
   "id": "cd42929b",
   "metadata": {},
   "source": [
    "## Predictions generation with the trained model\n",
    "---"
   ]
  },
  {
   "cell_type": "markdown",
   "id": "036610a9",
   "metadata": {},
   "source": [
    "Now it is time to make the predictions with new data with the selected hyperparameters. To do so we use the **test dataset** with the method `predict()`"
   ]
  },
  {
   "cell_type": "code",
   "execution_count": 113,
   "id": "30889914",
   "metadata": {},
   "outputs": [
    {
     "data": {
      "text/plain": [
       "array([0, 1, 1, 0, 1, 0, 1, 0, 1, 0, 0, 1, 1, 1, 0, 1, 0, 1, 0, 1, 1, 0,\n",
       "       1, 1, 0, 0, 0, 1, 1, 1, 1, 0, 0, 1, 0, 1, 0, 1, 1, 1, 1, 1, 0, 0,\n",
       "       0, 0, 0, 0, 0, 1, 1, 0, 1, 0, 0, 0, 1, 1, 1, 1, 0, 1, 1, 0, 0, 1,\n",
       "       1, 1, 0, 0, 0, 0, 0, 1, 0, 1, 1, 1, 1, 0, 1, 0, 0, 0, 1, 0, 0, 1,\n",
       "       0, 1, 1, 0, 0, 0, 0, 1, 1, 0, 0, 0, 1, 1, 0, 1, 1, 1, 1, 0, 0, 1,\n",
       "       0, 0, 0, 0, 0, 1, 1, 1, 0, 1, 0, 1, 1, 1, 1, 0, 1, 0, 1, 1, 0, 0,\n",
       "       1, 0, 1, 1, 1, 0, 0, 1, 0, 0, 1, 1, 0, 1, 0, 1, 1, 1, 1, 1, 0, 0,\n",
       "       1, 0, 0, 1, 0, 1, 0, 0, 0, 1, 1, 0, 0, 0, 0, 1, 0, 1, 1, 1, 0, 1,\n",
       "       1, 1, 0, 0, 0, 0, 0, 1, 0, 0, 0, 1, 0, 1, 0, 0, 1, 1, 0, 0, 0, 1,\n",
       "       1, 1, 1, 1, 1, 0, 0, 0, 0, 1, 0, 1, 0, 0, 0, 1, 1, 0, 1, 1, 0, 1,\n",
       "       0, 1, 0, 0, 1, 1, 0, 1, 1, 0, 1, 1, 1, 0, 1, 0, 0, 0, 0, 0, 0, 1,\n",
       "       0, 0, 0, 1, 1, 0, 0, 0, 1, 0, 0, 0, 0, 1, 0, 0, 0, 0, 0, 0, 1, 1,\n",
       "       0, 0, 1, 1, 0, 1, 1, 0, 0, 0, 0, 0, 1, 0, 1, 0, 1, 1, 1, 1, 0, 0,\n",
       "       1, 0, 0, 0, 1, 1, 0, 0, 0, 0, 0, 0, 0, 0, 0, 0, 1, 0, 0, 0, 0, 1,\n",
       "       1, 1, 1, 0, 0, 1, 0, 1, 1, 1, 0, 1, 0, 1, 1, 0, 1, 0, 1, 0, 0, 0,\n",
       "       0, 0, 1, 0, 1, 0, 0, 1, 0, 1, 1, 0, 1, 0, 0, 0, 0, 0, 0, 0, 1, 1,\n",
       "       0, 1, 1, 0, 0, 0, 0, 0, 0, 0, 0, 0, 1, 0, 0, 0, 0, 0, 1, 0, 1, 1,\n",
       "       1, 0, 0, 0, 1, 1, 1, 1, 0, 1, 0, 1, 0, 1, 1, 0, 0, 0, 0, 1, 1, 1,\n",
       "       0, 0, 0, 0, 1, 0, 0, 0, 1, 1, 0, 0, 0, 1, 1, 1, 1, 0, 0, 0, 0, 1,\n",
       "       0, 0, 1, 0, 1, 0, 1, 1, 0, 1, 0, 0, 0, 1, 0, 1, 0, 0, 0, 0, 1, 1,\n",
       "       0, 1, 0, 1, 1, 0, 0, 0, 0, 0, 0, 0, 1, 0, 0, 1, 0, 0, 0, 0, 1, 0,\n",
       "       1, 1, 1, 1, 0, 1, 1, 1, 0, 0, 0, 0, 1, 0, 0, 1, 1, 1, 1, 0, 1, 0,\n",
       "       0, 1, 0, 0, 1, 1, 1, 1, 1, 1, 0, 0, 0, 1, 1, 1, 0, 0, 1, 0, 1, 1,\n",
       "       0, 0, 0, 0, 0, 1, 1, 0, 1, 1, 1, 0, 1, 1, 0, 1, 0, 1, 0, 0, 1, 1,\n",
       "       1, 1, 1, 1, 1, 0, 0, 1, 0, 0, 0, 0, 1, 1, 1, 1, 1, 0, 1, 1, 1, 1,\n",
       "       1, 0, 1, 0, 0, 0, 1, 0, 1, 0, 0])"
      ]
     },
     "metadata": {},
     "output_type": "display_data"
    }
   ],
   "source": [
    "rf_model = RandomForestClassifier(\n",
    "    n_estimators=200,\n",
    "    random_state=1234,\n",
    "    oob_score=True\n",
    ")\n",
    "\n",
    "rf_model.fit(X_train, y_train)\n",
    "\n",
    "rf_preds = rf_model.predict(X_test)\n",
    "display(rf_preds)"
   ]
  }
 ],
 "metadata": {
  "kernelspec": {
   "display_name": "venv",
   "language": "python",
   "name": "python3"
  },
  "language_info": {
   "codemirror_mode": {
    "name": "ipython",
    "version": 3
   },
   "file_extension": ".py",
   "mimetype": "text/x-python",
   "name": "python",
   "nbconvert_exporter": "python",
   "pygments_lexer": "ipython3",
   "version": "3.13.3"
  }
 },
 "nbformat": 4,
 "nbformat_minor": 5
}
